{
  "cells": [
    {
      "cell_type": "markdown",
      "metadata": {
        "id": "view-in-github",
        "colab_type": "text"
      },
      "source": [
        "<a href=\"https://colab.research.google.com/github/mdmelo/atlantis-example/blob/master/2-4-3-HorsesOrHumans.ipynb\" target=\"_parent\"><img src=\"https://colab.research.google.com/assets/colab-badge.svg\" alt=\"Open In Colab\"/></a>"
      ]
    },
    {
      "cell_type": "code",
      "execution_count": 1,
      "metadata": {
        "id": "zX4Kg8DUTKWO"
      },
      "outputs": [],
      "source": [
        "#@title Licensed under the Apache License, Version 2.0 (the \"License\");\n",
        "# you may not use this file except in compliance with the License.\n",
        "# You may obtain a copy of the License at\n",
        "#\n",
        "# https://www.apache.org/licenses/LICENSE-2.0\n",
        "#\n",
        "# Unless required by applicable law or agreed to in writing, software\n",
        "# distributed under the License is distributed on an \"AS IS\" BASIS,\n",
        "# WITHOUT WARRANTIES OR CONDITIONS OF ANY KIND, either express or implied.\n",
        "# See the License for the specific language governing permissions and\n",
        "# limitations under the License."
      ]
    },
    {
      "cell_type": "markdown",
      "metadata": {
        "id": "WyiYQL32R3Vg"
      },
      "source": [
        "## Download the neccessary data into the Colab Instance"
      ]
    },
    {
      "cell_type": "code",
      "execution_count": 2,
      "metadata": {
        "id": "RXZT2UsyIVe_",
        "outputId": "442e27ef-25b3-4671-e120-03ec8431240d",
        "colab": {
          "base_uri": "https://localhost:8080/"
        }
      },
      "outputs": [
        {
          "output_type": "stream",
          "name": "stdout",
          "text": [
            "--2024-04-03 17:39:24--  https://storage.googleapis.com/learning-datasets/horse-or-human.zip\n",
            "Resolving storage.googleapis.com (storage.googleapis.com)... 108.177.112.207, 74.125.124.207, 142.250.128.207, ...\n",
            "Connecting to storage.googleapis.com (storage.googleapis.com)|108.177.112.207|:443... connected.\n",
            "HTTP request sent, awaiting response... 200 OK\n",
            "Length: 149574867 (143M) [application/zip]\n",
            "Saving to: ‘/tmp/horse-or-human.zip’\n",
            "\n",
            "/tmp/horse-or-human 100%[===================>] 142.65M   177MB/s    in 0.8s    \n",
            "\n",
            "2024-04-03 17:39:25 (177 MB/s) - ‘/tmp/horse-or-human.zip’ saved [149574867/149574867]\n",
            "\n",
            "--2024-04-03 17:39:25--  https://storage.googleapis.com/learning-datasets/validation-horse-or-human.zip\n",
            "Resolving storage.googleapis.com (storage.googleapis.com)... 108.177.112.207, 74.125.124.207, 142.250.128.207, ...\n",
            "Connecting to storage.googleapis.com (storage.googleapis.com)|108.177.112.207|:443... connected.\n",
            "HTTP request sent, awaiting response... 200 OK\n",
            "Length: 11480187 (11M) [application/zip]\n",
            "Saving to: ‘/tmp/validation-horse-or-human.zip’\n",
            "\n",
            "/tmp/validation-hor 100%[===================>]  10.95M  --.-KB/s    in 0.1s    \n",
            "\n",
            "2024-04-03 17:39:25 (75.5 MB/s) - ‘/tmp/validation-horse-or-human.zip’ saved [11480187/11480187]\n",
            "\n"
          ]
        }
      ],
      "source": [
        "!wget --no-check-certificate \\\n",
        "    https://storage.googleapis.com/learning-datasets/horse-or-human.zip \\\n",
        "    -O /tmp/horse-or-human.zip\n",
        "\n",
        "!wget --no-check-certificate \\\n",
        "    https://storage.googleapis.com/learning-datasets/validation-horse-or-human.zip \\\n",
        "    -O /tmp/validation-horse-or-human.zip"
      ]
    },
    {
      "cell_type": "code",
      "execution_count": 3,
      "metadata": {
        "id": "PLy3pthUS0D2"
      },
      "outputs": [],
      "source": [
        "import os\n",
        "import zipfile\n",
        "\n",
        "local_zip = '/tmp/horse-or-human.zip'\n",
        "zip_ref = zipfile.ZipFile(local_zip, 'r')\n",
        "zip_ref.extractall('/tmp/horse-or-human')\n",
        "local_zip = '/tmp/validation-horse-or-human.zip'\n",
        "zip_ref = zipfile.ZipFile(local_zip, 'r')\n",
        "zip_ref.extractall('/tmp/validation-horse-or-human')\n",
        "zip_ref.close()"
      ]
    },
    {
      "cell_type": "code",
      "execution_count": 4,
      "metadata": {
        "id": "WwuabikGR3Vh",
        "outputId": "17c0f208-11da-4c98-973b-1af47e15b7b0",
        "colab": {
          "base_uri": "https://localhost:8080/"
        }
      },
      "outputs": [
        {
          "output_type": "stream",
          "name": "stdout",
          "text": [
            "['horse16-1.png', 'horse49-1.png', 'horse44-8.png', 'horse35-8.png', 'horse34-9.png', 'horse08-9.png', 'horse40-9.png', 'horse26-3.png', 'horse08-1.png', 'horse46-4.png']\n",
            "['human04-02.png', 'human10-01.png', 'human04-18.png', 'human06-24.png', 'human15-23.png', 'human17-23.png', 'human07-12.png', 'human10-02.png', 'human06-01.png', 'human08-13.png']\n",
            "['horse3-521.png', 'horse6-218.png', 'horse2-201.png', 'horse1-484.png', 'horse1-298.png', 'horse5-100.png', 'horse3-397.png', 'horse4-389.png', 'horse5-400.png', 'horse2-544.png']\n",
            "['valhuman03-10.png', 'valhuman05-23.png', 'valhuman01-23.png', 'valhuman05-06.png', 'valhuman04-06.png', 'valhuman03-11.png', 'valhuman05-05.png', 'valhuman03-18.png', 'valhuman01-19.png', 'valhuman03-19.png']\n"
          ]
        }
      ],
      "source": [
        "# Directory with our training horse pictures\n",
        "train_horse_dir = os.path.join('/tmp/horse-or-human/horses')\n",
        "# Directory with our training human pictures\n",
        "train_human_dir = os.path.join('/tmp/horse-or-human/humans')\n",
        "# Directory with our training horse pictures\n",
        "validation_horse_dir = os.path.join('/tmp/validation-horse-or-human/horses')\n",
        "# Directory with our training human pictures\n",
        "validation_human_dir = os.path.join('/tmp/validation-horse-or-human/humans')\n",
        "train_horse_names = os.listdir('/tmp/horse-or-human/horses')\n",
        "print(train_horse_names[:10])\n",
        "train_human_names = os.listdir('/tmp/horse-or-human/humans')\n",
        "print(train_human_names[:10])\n",
        "validation_horse_hames = os.listdir('/tmp/validation-horse-or-human/horses')\n",
        "print(validation_horse_hames[:10])\n",
        "validation_human_names = os.listdir('/tmp/validation-horse-or-human/humans')\n",
        "print(validation_human_names[:10])"
      ]
    },
    {
      "cell_type": "code",
      "execution_count": 5,
      "metadata": {
        "id": "qvfZg3LQbD-5"
      },
      "outputs": [],
      "source": [
        "import tensorflow as tf"
      ]
    },
    {
      "cell_type": "markdown",
      "metadata": {
        "id": "2cd7ECxpR3Vi"
      },
      "source": [
        "## Define your model and optimizer"
      ]
    },
    {
      "cell_type": "code",
      "execution_count": 6,
      "metadata": {
        "id": "PixZ2s5QbYQ3"
      },
      "outputs": [],
      "source": [
        "model = tf.keras.models.Sequential([\n",
        "    # Note the input shape is the desired size of the image with 3 bytes color\n",
        "    # This is the first convolution\n",
        "    tf.keras.layers.Conv2D(32, (3,3), activation='relu', input_shape=(100, 100, 3)),\n",
        "    tf.keras.layers.MaxPooling2D(2, 2),\n",
        "    # The second convolution\n",
        "    tf.keras.layers.Conv2D(64, (3,3), activation='relu'),\n",
        "    tf.keras.layers.MaxPooling2D(2,2),\n",
        "    # The third convolution\n",
        "    tf.keras.layers.Conv2D(128, (3,3), activation='relu'),\n",
        "    tf.keras.layers.MaxPooling2D(2,2),\n",
        "    # The fourth convolution\n",
        "    tf.keras.layers.Conv2D(256, (3,3), activation='relu'),\n",
        "    tf.keras.layers.MaxPooling2D(2,2),\n",
        "    # Flatten the results to feed into a DNN\n",
        "    tf.keras.layers.Flatten(),\n",
        "    # 512 neuron hidden layer\n",
        "    tf.keras.layers.Dense(512, activation='relu'),\n",
        "    tf.keras.layers.Dense(256, activation='relu'),\n",
        "    # Only 1 output neuron. It will contain a value from 0-1 where 0 for 1 class\n",
        "    # ('horses') and 1 for the other ('humans')\n",
        "    tf.keras.layers.Dense(1, activation='sigmoid')\n",
        "])"
      ]
    },
    {
      "cell_type": "code",
      "execution_count": 7,
      "metadata": {
        "id": "pMDg5mJxDrBq",
        "outputId": "b522193c-ebc6-4a72-d8e0-5f9112248e51",
        "colab": {
          "base_uri": "https://localhost:8080/"
        }
      },
      "outputs": [
        {
          "output_type": "stream",
          "name": "stdout",
          "text": [
            "Model: \"sequential\"\n",
            "_________________________________________________________________\n",
            " Layer (type)                Output Shape              Param #   \n",
            "=================================================================\n",
            " conv2d (Conv2D)             (None, 98, 98, 32)        896       \n",
            "                                                                 \n",
            " max_pooling2d (MaxPooling2  (None, 49, 49, 32)        0         \n",
            " D)                                                              \n",
            "                                                                 \n",
            " conv2d_1 (Conv2D)           (None, 47, 47, 64)        18496     \n",
            "                                                                 \n",
            " max_pooling2d_1 (MaxPoolin  (None, 23, 23, 64)        0         \n",
            " g2D)                                                            \n",
            "                                                                 \n",
            " conv2d_2 (Conv2D)           (None, 21, 21, 128)       73856     \n",
            "                                                                 \n",
            " max_pooling2d_2 (MaxPoolin  (None, 10, 10, 128)       0         \n",
            " g2D)                                                            \n",
            "                                                                 \n",
            " conv2d_3 (Conv2D)           (None, 8, 8, 256)         295168    \n",
            "                                                                 \n",
            " max_pooling2d_3 (MaxPoolin  (None, 4, 4, 256)         0         \n",
            " g2D)                                                            \n",
            "                                                                 \n",
            " flatten (Flatten)           (None, 4096)              0         \n",
            "                                                                 \n",
            " dense (Dense)               (None, 512)               2097664   \n",
            "                                                                 \n",
            " dense_1 (Dense)             (None, 256)               131328    \n",
            "                                                                 \n",
            " dense_2 (Dense)             (None, 1)                 257       \n",
            "                                                                 \n",
            "=================================================================\n",
            "Total params: 2617665 (9.99 MB)\n",
            "Trainable params: 2617665 (9.99 MB)\n",
            "Non-trainable params: 0 (0.00 Byte)\n",
            "_________________________________________________________________\n",
            "None\n"
          ]
        }
      ],
      "source": [
        "print(model.summary())"
      ]
    },
    {
      "cell_type": "code",
      "execution_count": 11,
      "metadata": {
        "id": "8DHWhFP_uhq3"
      },
      "outputs": [],
      "source": [
        "optimizer = tf.keras.optimizers.RMSprop(learning_rate=0.0001)\n",
        "model.compile(loss='binary_crossentropy',\n",
        "              optimizer=optimizer,\n",
        "              metrics=['acc'])"
      ]
    },
    {
      "cell_type": "markdown",
      "metadata": {
        "id": "wgON_hpSR3Vj"
      },
      "source": [
        "## Organize your data into Generators"
      ]
    },
    {
      "cell_type": "code",
      "execution_count": 13,
      "metadata": {
        "id": "ClebU9NJg99G",
        "outputId": "0cbc3997-bac8-403c-e86d-49b135a86c65",
        "colab": {
          "base_uri": "https://localhost:8080/"
        }
      },
      "outputs": [
        {
          "output_type": "stream",
          "name": "stdout",
          "text": [
            "Found 1027 images belonging to 2 classes.\n",
            "Found 256 images belonging to 2 classes.\n"
          ]
        }
      ],
      "source": [
        "# All images will be augmented according to whichever lines are uncommented\n",
        "# below. We can first try without any of the augmentation beyond the rescaling\n",
        "train_datagen = tf.keras.preprocessing.image.ImageDataGenerator(\n",
        "      rescale=1./255,\n",
        "      #rotation_range=40,\n",
        "      #width_shift_range=0.2,\n",
        "      #height_shift_range=0.2,\n",
        "      #shear_range=0.2,\n",
        "      #zoom_range=0.2,\n",
        "      #horizontal_flip=True,\n",
        "      #fill_mode='nearest'\n",
        "      )\n",
        "\n",
        "# Flow training images in batches of 128 using train_datagen generator\n",
        "train_generator = train_datagen.flow_from_directory(\n",
        "        '/tmp/horse-or-human/',  # This is the source directory for training images\n",
        "        target_size=(100, 100),  # All images will be resized to 100x100\n",
        "        batch_size=128,\n",
        "        # Since we use binary_crossentropy loss, we need binary labels\n",
        "        class_mode='binary')\n",
        "\n",
        "validation_datagen = tf.keras.preprocessing.image.ImageDataGenerator(rescale=1./255)\n",
        "\n",
        "validation_generator = validation_datagen.flow_from_directory(\n",
        "        '/tmp/validation-horse-or-human',\n",
        "        target_size=(100, 100),\n",
        "        class_mode='binary')\n"
      ]
    },
    {
      "cell_type": "markdown",
      "metadata": {
        "id": "_doVZoHAR3Vk"
      },
      "source": [
        "## Train your model\n",
        "This may take a little while. Remember we are now building and training relatively complex computer vision models!"
      ]
    },
    {
      "cell_type": "code",
      "execution_count": 14,
      "metadata": {
        "id": "Fb1_lgobv81m",
        "outputId": "d049d947-a2c4-4de4-a9e8-d4ea109565c4",
        "colab": {
          "base_uri": "https://localhost:8080/"
        }
      },
      "outputs": [
        {
          "output_type": "stream",
          "name": "stdout",
          "text": [
            "Epoch 1/100\n",
            "8/8 [==============================] - 14s 975ms/step - loss: 0.6891 - acc: 0.5606 - val_loss: 0.7029 - val_acc: 0.5000\n",
            "Epoch 2/100\n",
            "8/8 [==============================] - 6s 690ms/step - loss: 0.6730 - acc: 0.5250 - val_loss: 0.6646 - val_acc: 0.5000\n",
            "Epoch 3/100\n",
            "8/8 [==============================] - 8s 1s/step - loss: 0.6505 - acc: 0.7697 - val_loss: 0.6383 - val_acc: 0.5703\n",
            "Epoch 4/100\n",
            "8/8 [==============================] - 6s 797ms/step - loss: 0.6321 - acc: 0.7286 - val_loss: 0.5821 - val_acc: 0.8359\n",
            "Epoch 5/100\n",
            "8/8 [==============================] - 6s 737ms/step - loss: 0.5553 - acc: 0.8298 - val_loss: 0.4981 - val_acc: 0.8789\n",
            "Epoch 6/100\n",
            "8/8 [==============================] - 6s 908ms/step - loss: 0.5249 - acc: 0.7475 - val_loss: 0.4915 - val_acc: 0.7617\n",
            "Epoch 7/100\n",
            "8/8 [==============================] - 5s 683ms/step - loss: 0.4198 - acc: 0.8821 - val_loss: 0.5588 - val_acc: 0.7070\n",
            "Epoch 8/100\n",
            "8/8 [==============================] - 6s 823ms/step - loss: 0.3442 - acc: 0.9043 - val_loss: 0.3966 - val_acc: 0.8555\n",
            "Epoch 9/100\n",
            "8/8 [==============================] - 6s 702ms/step - loss: 0.3133 - acc: 0.8921 - val_loss: 0.4183 - val_acc: 0.8555\n",
            "Epoch 10/100\n",
            "8/8 [==============================] - 5s 686ms/step - loss: 0.2646 - acc: 0.9055 - val_loss: 0.4592 - val_acc: 0.8438\n",
            "Epoch 11/100\n",
            "8/8 [==============================] - 10s 1s/step - loss: 0.2502 - acc: 0.9043 - val_loss: 0.5101 - val_acc: 0.8320\n",
            "Epoch 12/100\n",
            "8/8 [==============================] - 6s 776ms/step - loss: 0.1765 - acc: 0.9499 - val_loss: 0.6020 - val_acc: 0.8359\n",
            "Epoch 13/100\n",
            "8/8 [==============================] - 8s 987ms/step - loss: 0.1536 - acc: 0.9522 - val_loss: 0.5537 - val_acc: 0.8594\n",
            "Epoch 14/100\n",
            "8/8 [==============================] - 6s 768ms/step - loss: 0.1387 - acc: 0.9600 - val_loss: 0.9269 - val_acc: 0.8047\n",
            "Epoch 15/100\n",
            "8/8 [==============================] - 7s 929ms/step - loss: 0.1290 - acc: 0.9611 - val_loss: 0.8430 - val_acc: 0.8086\n",
            "Epoch 16/100\n",
            "8/8 [==============================] - 6s 859ms/step - loss: 0.1211 - acc: 0.9622 - val_loss: 0.7331 - val_acc: 0.8477\n",
            "Epoch 17/100\n",
            "8/8 [==============================] - 7s 900ms/step - loss: 0.1145 - acc: 0.9633 - val_loss: 0.4680 - val_acc: 0.8945\n",
            "Epoch 18/100\n",
            "8/8 [==============================] - 5s 660ms/step - loss: 0.1658 - acc: 0.9321 - val_loss: 0.8443 - val_acc: 0.8359\n",
            "Epoch 19/100\n",
            "8/8 [==============================] - 7s 922ms/step - loss: 0.0812 - acc: 0.9733 - val_loss: 1.0674 - val_acc: 0.8086\n",
            "Epoch 20/100\n",
            "8/8 [==============================] - 5s 675ms/step - loss: 0.0787 - acc: 0.9811 - val_loss: 0.9966 - val_acc: 0.8281\n",
            "Epoch 21/100\n",
            "8/8 [==============================] - 6s 778ms/step - loss: 0.1047 - acc: 0.9633 - val_loss: 0.7426 - val_acc: 0.8633\n",
            "Epoch 22/100\n",
            "8/8 [==============================] - 5s 670ms/step - loss: 0.0841 - acc: 0.9733 - val_loss: 1.0942 - val_acc: 0.8203\n",
            "Epoch 23/100\n",
            "8/8 [==============================] - 6s 680ms/step - loss: 0.1227 - acc: 0.9566 - val_loss: 0.9033 - val_acc: 0.8398\n",
            "Epoch 24/100\n",
            "8/8 [==============================] - 5s 678ms/step - loss: 0.0873 - acc: 0.9666 - val_loss: 0.9832 - val_acc: 0.8320\n",
            "Epoch 25/100\n",
            "8/8 [==============================] - 6s 782ms/step - loss: 0.0571 - acc: 0.9855 - val_loss: 1.0907 - val_acc: 0.8281\n",
            "Epoch 26/100\n",
            "8/8 [==============================] - 6s 759ms/step - loss: 0.0866 - acc: 0.9722 - val_loss: 0.9277 - val_acc: 0.8477\n",
            "Epoch 27/100\n",
            "8/8 [==============================] - 7s 962ms/step - loss: 0.0616 - acc: 0.9822 - val_loss: 1.2501 - val_acc: 0.8242\n",
            "Epoch 28/100\n",
            "8/8 [==============================] - 6s 692ms/step - loss: 0.0580 - acc: 0.9789 - val_loss: 1.0053 - val_acc: 0.8398\n",
            "Epoch 29/100\n",
            "8/8 [==============================] - 5s 671ms/step - loss: 0.0535 - acc: 0.9811 - val_loss: 1.9029 - val_acc: 0.7344\n",
            "Epoch 30/100\n",
            "8/8 [==============================] - 6s 780ms/step - loss: 0.0630 - acc: 0.9744 - val_loss: 1.2873 - val_acc: 0.8203\n",
            "Epoch 31/100\n",
            "8/8 [==============================] - 6s 721ms/step - loss: 0.0395 - acc: 0.9855 - val_loss: 1.2818 - val_acc: 0.8281\n",
            "Epoch 32/100\n",
            "8/8 [==============================] - 6s 677ms/step - loss: 0.0761 - acc: 0.9778 - val_loss: 1.2032 - val_acc: 0.8281\n",
            "Epoch 33/100\n",
            "8/8 [==============================] - 6s 748ms/step - loss: 0.0348 - acc: 0.9889 - val_loss: 1.2431 - val_acc: 0.8281\n",
            "Epoch 34/100\n",
            "8/8 [==============================] - 6s 778ms/step - loss: 0.0343 - acc: 0.9878 - val_loss: 1.3783 - val_acc: 0.8281\n",
            "Epoch 35/100\n",
            "8/8 [==============================] - 6s 779ms/step - loss: 0.0320 - acc: 0.9855 - val_loss: 1.4976 - val_acc: 0.8125\n",
            "Epoch 36/100\n",
            "8/8 [==============================] - 5s 682ms/step - loss: 0.0313 - acc: 0.9889 - val_loss: 2.0139 - val_acc: 0.7578\n",
            "Epoch 37/100\n",
            "8/8 [==============================] - 6s 754ms/step - loss: 0.0407 - acc: 0.9878 - val_loss: 1.3199 - val_acc: 0.8359\n",
            "Epoch 38/100\n",
            "8/8 [==============================] - 6s 847ms/step - loss: 0.0196 - acc: 0.9944 - val_loss: 1.7206 - val_acc: 0.8047\n",
            "Epoch 39/100\n",
            "8/8 [==============================] - 5s 676ms/step - loss: 0.0458 - acc: 0.9766 - val_loss: 1.3772 - val_acc: 0.8242\n",
            "Epoch 40/100\n",
            "8/8 [==============================] - 5s 675ms/step - loss: 0.0218 - acc: 0.9956 - val_loss: 1.4951 - val_acc: 0.8203\n",
            "Epoch 41/100\n",
            "8/8 [==============================] - 6s 793ms/step - loss: 0.0130 - acc: 0.9978 - val_loss: 1.6548 - val_acc: 0.8203\n",
            "Epoch 42/100\n",
            "8/8 [==============================] - 6s 689ms/step - loss: 0.0182 - acc: 0.9967 - val_loss: 1.3571 - val_acc: 0.8398\n",
            "Epoch 43/100\n",
            "8/8 [==============================] - 6s 801ms/step - loss: 0.0405 - acc: 0.9844 - val_loss: 1.5324 - val_acc: 0.8203\n",
            "Epoch 44/100\n",
            "8/8 [==============================] - 5s 775ms/step - loss: 0.0136 - acc: 0.9944 - val_loss: 1.5522 - val_acc: 0.8281\n",
            "Epoch 45/100\n",
            "8/8 [==============================] - 7s 922ms/step - loss: 0.0100 - acc: 0.9989 - val_loss: 1.6189 - val_acc: 0.8203\n",
            "Epoch 46/100\n",
            "8/8 [==============================] - 6s 723ms/step - loss: 0.0124 - acc: 0.9980 - val_loss: 1.8527 - val_acc: 0.8164\n",
            "Epoch 47/100\n",
            "8/8 [==============================] - 6s 743ms/step - loss: 0.0102 - acc: 0.9989 - val_loss: 1.6453 - val_acc: 0.8398\n",
            "Epoch 48/100\n",
            "8/8 [==============================] - 6s 753ms/step - loss: 0.0451 - acc: 0.9800 - val_loss: 1.3839 - val_acc: 0.8398\n",
            "Epoch 49/100\n",
            "8/8 [==============================] - 7s 941ms/step - loss: 0.0089 - acc: 1.0000 - val_loss: 1.6714 - val_acc: 0.8242\n",
            "Epoch 50/100\n",
            "8/8 [==============================] - 6s 722ms/step - loss: 0.0068 - acc: 1.0000 - val_loss: 1.7392 - val_acc: 0.8242\n",
            "Epoch 51/100\n",
            "8/8 [==============================] - 6s 753ms/step - loss: 0.0050 - acc: 1.0000 - val_loss: 1.7109 - val_acc: 0.8320\n",
            "Epoch 52/100\n",
            "8/8 [==============================] - 6s 769ms/step - loss: 0.0050 - acc: 1.0000 - val_loss: 1.6107 - val_acc: 0.8398\n",
            "Epoch 53/100\n",
            "8/8 [==============================] - 5s 763ms/step - loss: 0.0104 - acc: 1.0000 - val_loss: 1.8164 - val_acc: 0.8281\n",
            "Epoch 54/100\n",
            "8/8 [==============================] - 6s 801ms/step - loss: 0.0039 - acc: 1.0000 - val_loss: 1.8407 - val_acc: 0.8320\n",
            "Epoch 55/100\n",
            "8/8 [==============================] - 5s 676ms/step - loss: 0.0037 - acc: 1.0000 - val_loss: 1.9970 - val_acc: 0.8242\n",
            "Epoch 56/100\n",
            "8/8 [==============================] - 6s 758ms/step - loss: 0.0193 - acc: 0.9922 - val_loss: 1.4765 - val_acc: 0.8516\n",
            "Epoch 57/100\n",
            "8/8 [==============================] - 6s 839ms/step - loss: 0.0094 - acc: 0.9956 - val_loss: 2.0462 - val_acc: 0.8242\n",
            "Epoch 58/100\n",
            "8/8 [==============================] - 7s 910ms/step - loss: 0.0029 - acc: 1.0000 - val_loss: 2.0482 - val_acc: 0.8242\n",
            "Epoch 59/100\n",
            "8/8 [==============================] - 5s 684ms/step - loss: 0.0029 - acc: 1.0000 - val_loss: 2.0808 - val_acc: 0.8242\n",
            "Epoch 60/100\n",
            "8/8 [==============================] - 5s 673ms/step - loss: 0.0025 - acc: 1.0000 - val_loss: 2.0365 - val_acc: 0.8320\n",
            "Epoch 61/100\n",
            "8/8 [==============================] - 5s 672ms/step - loss: 0.0023 - acc: 1.0000 - val_loss: 2.2347 - val_acc: 0.8242\n",
            "Epoch 62/100\n",
            "8/8 [==============================] - 5s 674ms/step - loss: 0.0020 - acc: 1.0000 - val_loss: 2.4831 - val_acc: 0.8125\n",
            "Epoch 63/100\n",
            "8/8 [==============================] - 6s 776ms/step - loss: 0.0027 - acc: 1.0000 - val_loss: 2.2078 - val_acc: 0.8242\n",
            "Epoch 64/100\n",
            "8/8 [==============================] - 5s 681ms/step - loss: 0.0021 - acc: 1.0000 - val_loss: 2.4319 - val_acc: 0.8125\n",
            "Epoch 65/100\n",
            "8/8 [==============================] - 6s 664ms/step - loss: 0.0021 - acc: 1.0000 - val_loss: 2.2323 - val_acc: 0.8281\n",
            "Epoch 66/100\n",
            "8/8 [==============================] - 5s 680ms/step - loss: 0.0012 - acc: 1.0000 - val_loss: 2.2436 - val_acc: 0.8320\n",
            "Epoch 67/100\n",
            "8/8 [==============================] - 6s 710ms/step - loss: 9.2429e-04 - acc: 1.0000 - val_loss: 2.2997 - val_acc: 0.8320\n",
            "Epoch 68/100\n",
            "8/8 [==============================] - 5s 669ms/step - loss: 8.5120e-04 - acc: 1.0000 - val_loss: 2.4536 - val_acc: 0.8242\n",
            "Epoch 69/100\n",
            "8/8 [==============================] - 6s 721ms/step - loss: 0.0013 - acc: 1.0000 - val_loss: 2.4656 - val_acc: 0.8242\n",
            "Epoch 70/100\n",
            "8/8 [==============================] - 6s 754ms/step - loss: 8.2237e-04 - acc: 1.0000 - val_loss: 2.4103 - val_acc: 0.8281\n",
            "Epoch 71/100\n",
            "8/8 [==============================] - 6s 722ms/step - loss: 7.6451e-04 - acc: 1.0000 - val_loss: 2.4766 - val_acc: 0.8242\n",
            "Epoch 72/100\n",
            "8/8 [==============================] - 6s 748ms/step - loss: 6.4416e-04 - acc: 1.0000 - val_loss: 2.4973 - val_acc: 0.8281\n",
            "Epoch 73/100\n",
            "8/8 [==============================] - 6s 727ms/step - loss: 8.1706e-04 - acc: 1.0000 - val_loss: 2.4916 - val_acc: 0.8281\n",
            "Epoch 74/100\n",
            "8/8 [==============================] - 6s 782ms/step - loss: 5.3294e-04 - acc: 1.0000 - val_loss: 2.5942 - val_acc: 0.8242\n",
            "Epoch 75/100\n",
            "8/8 [==============================] - 6s 759ms/step - loss: 5.1841e-04 - acc: 1.0000 - val_loss: 2.6244 - val_acc: 0.8242\n",
            "Epoch 76/100\n",
            "8/8 [==============================] - 7s 900ms/step - loss: 6.6953e-04 - acc: 1.0000 - val_loss: 2.8256 - val_acc: 0.8203\n",
            "Epoch 77/100\n",
            "8/8 [==============================] - 5s 763ms/step - loss: 6.0068e-04 - acc: 1.0000 - val_loss: 2.7377 - val_acc: 0.8203\n",
            "Epoch 78/100\n",
            "8/8 [==============================] - 6s 787ms/step - loss: 4.3830e-04 - acc: 1.0000 - val_loss: 2.7518 - val_acc: 0.8203\n",
            "Epoch 79/100\n",
            "8/8 [==============================] - 6s 725ms/step - loss: 0.0011 - acc: 1.0000 - val_loss: 2.6369 - val_acc: 0.8281\n",
            "Epoch 80/100\n",
            "8/8 [==============================] - 6s 864ms/step - loss: 3.7365e-04 - acc: 1.0000 - val_loss: 2.7260 - val_acc: 0.8242\n",
            "Epoch 81/100\n",
            "8/8 [==============================] - 6s 692ms/step - loss: 3.5430e-04 - acc: 1.0000 - val_loss: 2.7448 - val_acc: 0.8281\n",
            "Epoch 82/100\n",
            "8/8 [==============================] - 5s 781ms/step - loss: 3.3456e-04 - acc: 1.0000 - val_loss: 2.7526 - val_acc: 0.8281\n",
            "Epoch 83/100\n",
            "8/8 [==============================] - 6s 764ms/step - loss: 3.0837e-04 - acc: 1.0000 - val_loss: 2.8629 - val_acc: 0.8242\n",
            "Epoch 84/100\n",
            "8/8 [==============================] - 6s 758ms/step - loss: 4.8660e-04 - acc: 1.0000 - val_loss: 2.9741 - val_acc: 0.8242\n",
            "Epoch 85/100\n",
            "8/8 [==============================] - 6s 719ms/step - loss: 4.8735e-04 - acc: 1.0000 - val_loss: 2.8517 - val_acc: 0.8242\n",
            "Epoch 86/100\n",
            "8/8 [==============================] - 6s 807ms/step - loss: 2.6826e-04 - acc: 1.0000 - val_loss: 2.8625 - val_acc: 0.8242\n",
            "Epoch 87/100\n",
            "8/8 [==============================] - 5s 664ms/step - loss: 0.0072 - acc: 0.9978 - val_loss: 2.8745 - val_acc: 0.8203\n",
            "Epoch 88/100\n",
            "8/8 [==============================] - 6s 806ms/step - loss: 6.4027e-04 - acc: 1.0000 - val_loss: 2.8203 - val_acc: 0.8320\n",
            "Epoch 89/100\n",
            "8/8 [==============================] - 5s 672ms/step - loss: 3.1797e-04 - acc: 1.0000 - val_loss: 2.7300 - val_acc: 0.8359\n",
            "Epoch 90/100\n",
            "8/8 [==============================] - 6s 782ms/step - loss: 3.2993e-04 - acc: 1.0000 - val_loss: 2.7921 - val_acc: 0.8320\n",
            "Epoch 91/100\n",
            "8/8 [==============================] - 6s 723ms/step - loss: 2.1763e-04 - acc: 1.0000 - val_loss: 2.8131 - val_acc: 0.8320\n",
            "Epoch 92/100\n",
            "8/8 [==============================] - 6s 702ms/step - loss: 2.5717e-04 - acc: 1.0000 - val_loss: 3.0720 - val_acc: 0.8203\n",
            "Epoch 93/100\n",
            "8/8 [==============================] - 5s 679ms/step - loss: 2.7572e-04 - acc: 1.0000 - val_loss: 2.9057 - val_acc: 0.8281\n",
            "Epoch 94/100\n",
            "8/8 [==============================] - 5s 671ms/step - loss: 2.0967e-04 - acc: 1.0000 - val_loss: 2.8682 - val_acc: 0.8320\n",
            "Epoch 95/100\n",
            "8/8 [==============================] - 6s 750ms/step - loss: 1.6939e-04 - acc: 1.0000 - val_loss: 3.0567 - val_acc: 0.8203\n",
            "Epoch 96/100\n",
            "8/8 [==============================] - 5s 666ms/step - loss: 2.0443e-04 - acc: 1.0000 - val_loss: 2.9579 - val_acc: 0.8320\n",
            "Epoch 97/100\n",
            "8/8 [==============================] - 5s 668ms/step - loss: 1.4236e-04 - acc: 1.0000 - val_loss: 3.1682 - val_acc: 0.8203\n",
            "Epoch 98/100\n",
            "8/8 [==============================] - 5s 677ms/step - loss: 2.1129e-04 - acc: 1.0000 - val_loss: 3.0547 - val_acc: 0.8281\n",
            "Epoch 99/100\n",
            "8/8 [==============================] - 6s 778ms/step - loss: 1.4837e-04 - acc: 1.0000 - val_loss: 3.0897 - val_acc: 0.8242\n",
            "Epoch 100/100\n",
            "8/8 [==============================] - 6s 808ms/step - loss: 1.3580e-04 - acc: 1.0000 - val_loss: 3.0810 - val_acc: 0.8281\n"
          ]
        }
      ],
      "source": [
        "history = model.fit(\n",
        "      train_generator,\n",
        "      steps_per_epoch=8,\n",
        "      epochs=100,\n",
        "      verbose=1,\n",
        "      validation_data=validation_generator)"
      ]
    },
    {
      "cell_type": "markdown",
      "metadata": {
        "id": "o6vSHzPR2ghH"
      },
      "source": [
        "## Run your Model\n",
        "\n",
        "Let's now take a look at actually running a prediction using the model. This code will allow you to choose 1 or more files from your file system, it will then upload them, and run them through the model, giving an indication of whether the object is a horse or a human. **Was the model correct? Try a couple more images and see if you can confuse it!**"
      ]
    },
    {
      "cell_type": "code",
      "execution_count": 15,
      "metadata": {
        "id": "DoWp43WxJDNT",
        "outputId": "f985f58e-00bc-450e-daaf-17e7e81ae591",
        "colab": {
          "base_uri": "https://localhost:8080/",
          "height": 39
        }
      },
      "outputs": [
        {
          "output_type": "display_data",
          "data": {
            "text/plain": [
              "<IPython.core.display.HTML object>"
            ],
            "text/html": [
              "\n",
              "     <input type=\"file\" id=\"files-41ffecaa-f68e-4229-8bdf-1d48d74fb3ac\" name=\"files[]\" multiple disabled\n",
              "        style=\"border:none\" />\n",
              "     <output id=\"result-41ffecaa-f68e-4229-8bdf-1d48d74fb3ac\">\n",
              "      Upload widget is only available when the cell has been executed in the\n",
              "      current browser session. Please rerun this cell to enable.\n",
              "      </output>\n",
              "      <script>// Copyright 2017 Google LLC\n",
              "//\n",
              "// Licensed under the Apache License, Version 2.0 (the \"License\");\n",
              "// you may not use this file except in compliance with the License.\n",
              "// You may obtain a copy of the License at\n",
              "//\n",
              "//      http://www.apache.org/licenses/LICENSE-2.0\n",
              "//\n",
              "// Unless required by applicable law or agreed to in writing, software\n",
              "// distributed under the License is distributed on an \"AS IS\" BASIS,\n",
              "// WITHOUT WARRANTIES OR CONDITIONS OF ANY KIND, either express or implied.\n",
              "// See the License for the specific language governing permissions and\n",
              "// limitations under the License.\n",
              "\n",
              "/**\n",
              " * @fileoverview Helpers for google.colab Python module.\n",
              " */\n",
              "(function(scope) {\n",
              "function span(text, styleAttributes = {}) {\n",
              "  const element = document.createElement('span');\n",
              "  element.textContent = text;\n",
              "  for (const key of Object.keys(styleAttributes)) {\n",
              "    element.style[key] = styleAttributes[key];\n",
              "  }\n",
              "  return element;\n",
              "}\n",
              "\n",
              "// Max number of bytes which will be uploaded at a time.\n",
              "const MAX_PAYLOAD_SIZE = 100 * 1024;\n",
              "\n",
              "function _uploadFiles(inputId, outputId) {\n",
              "  const steps = uploadFilesStep(inputId, outputId);\n",
              "  const outputElement = document.getElementById(outputId);\n",
              "  // Cache steps on the outputElement to make it available for the next call\n",
              "  // to uploadFilesContinue from Python.\n",
              "  outputElement.steps = steps;\n",
              "\n",
              "  return _uploadFilesContinue(outputId);\n",
              "}\n",
              "\n",
              "// This is roughly an async generator (not supported in the browser yet),\n",
              "// where there are multiple asynchronous steps and the Python side is going\n",
              "// to poll for completion of each step.\n",
              "// This uses a Promise to block the python side on completion of each step,\n",
              "// then passes the result of the previous step as the input to the next step.\n",
              "function _uploadFilesContinue(outputId) {\n",
              "  const outputElement = document.getElementById(outputId);\n",
              "  const steps = outputElement.steps;\n",
              "\n",
              "  const next = steps.next(outputElement.lastPromiseValue);\n",
              "  return Promise.resolve(next.value.promise).then((value) => {\n",
              "    // Cache the last promise value to make it available to the next\n",
              "    // step of the generator.\n",
              "    outputElement.lastPromiseValue = value;\n",
              "    return next.value.response;\n",
              "  });\n",
              "}\n",
              "\n",
              "/**\n",
              " * Generator function which is called between each async step of the upload\n",
              " * process.\n",
              " * @param {string} inputId Element ID of the input file picker element.\n",
              " * @param {string} outputId Element ID of the output display.\n",
              " * @return {!Iterable<!Object>} Iterable of next steps.\n",
              " */\n",
              "function* uploadFilesStep(inputId, outputId) {\n",
              "  const inputElement = document.getElementById(inputId);\n",
              "  inputElement.disabled = false;\n",
              "\n",
              "  const outputElement = document.getElementById(outputId);\n",
              "  outputElement.innerHTML = '';\n",
              "\n",
              "  const pickedPromise = new Promise((resolve) => {\n",
              "    inputElement.addEventListener('change', (e) => {\n",
              "      resolve(e.target.files);\n",
              "    });\n",
              "  });\n",
              "\n",
              "  const cancel = document.createElement('button');\n",
              "  inputElement.parentElement.appendChild(cancel);\n",
              "  cancel.textContent = 'Cancel upload';\n",
              "  const cancelPromise = new Promise((resolve) => {\n",
              "    cancel.onclick = () => {\n",
              "      resolve(null);\n",
              "    };\n",
              "  });\n",
              "\n",
              "  // Wait for the user to pick the files.\n",
              "  const files = yield {\n",
              "    promise: Promise.race([pickedPromise, cancelPromise]),\n",
              "    response: {\n",
              "      action: 'starting',\n",
              "    }\n",
              "  };\n",
              "\n",
              "  cancel.remove();\n",
              "\n",
              "  // Disable the input element since further picks are not allowed.\n",
              "  inputElement.disabled = true;\n",
              "\n",
              "  if (!files) {\n",
              "    return {\n",
              "      response: {\n",
              "        action: 'complete',\n",
              "      }\n",
              "    };\n",
              "  }\n",
              "\n",
              "  for (const file of files) {\n",
              "    const li = document.createElement('li');\n",
              "    li.append(span(file.name, {fontWeight: 'bold'}));\n",
              "    li.append(span(\n",
              "        `(${file.type || 'n/a'}) - ${file.size} bytes, ` +\n",
              "        `last modified: ${\n",
              "            file.lastModifiedDate ? file.lastModifiedDate.toLocaleDateString() :\n",
              "                                    'n/a'} - `));\n",
              "    const percent = span('0% done');\n",
              "    li.appendChild(percent);\n",
              "\n",
              "    outputElement.appendChild(li);\n",
              "\n",
              "    const fileDataPromise = new Promise((resolve) => {\n",
              "      const reader = new FileReader();\n",
              "      reader.onload = (e) => {\n",
              "        resolve(e.target.result);\n",
              "      };\n",
              "      reader.readAsArrayBuffer(file);\n",
              "    });\n",
              "    // Wait for the data to be ready.\n",
              "    let fileData = yield {\n",
              "      promise: fileDataPromise,\n",
              "      response: {\n",
              "        action: 'continue',\n",
              "      }\n",
              "    };\n",
              "\n",
              "    // Use a chunked sending to avoid message size limits. See b/62115660.\n",
              "    let position = 0;\n",
              "    do {\n",
              "      const length = Math.min(fileData.byteLength - position, MAX_PAYLOAD_SIZE);\n",
              "      const chunk = new Uint8Array(fileData, position, length);\n",
              "      position += length;\n",
              "\n",
              "      const base64 = btoa(String.fromCharCode.apply(null, chunk));\n",
              "      yield {\n",
              "        response: {\n",
              "          action: 'append',\n",
              "          file: file.name,\n",
              "          data: base64,\n",
              "        },\n",
              "      };\n",
              "\n",
              "      let percentDone = fileData.byteLength === 0 ?\n",
              "          100 :\n",
              "          Math.round((position / fileData.byteLength) * 100);\n",
              "      percent.textContent = `${percentDone}% done`;\n",
              "\n",
              "    } while (position < fileData.byteLength);\n",
              "  }\n",
              "\n",
              "  // All done.\n",
              "  yield {\n",
              "    response: {\n",
              "      action: 'complete',\n",
              "    }\n",
              "  };\n",
              "}\n",
              "\n",
              "scope.google = scope.google || {};\n",
              "scope.google.colab = scope.google.colab || {};\n",
              "scope.google.colab._files = {\n",
              "  _uploadFiles,\n",
              "  _uploadFilesContinue,\n",
              "};\n",
              "})(self);\n",
              "</script> "
            ]
          },
          "metadata": {}
        }
      ],
      "source": [
        "import numpy as np\n",
        "from google.colab import files\n",
        "\n",
        "uploaded = files.upload()\n",
        "\n",
        "for fn in uploaded.keys():\n",
        "\n",
        "  # predicting images\n",
        "  path = '/content/' + fn\n",
        "  img = tf.keras.utils.load_img(path, target_size=(100, 100))\n",
        "  x = tf.keras.utils.img_to_array(img)\n",
        "  x = x / 255.0\n",
        "  x = np.expand_dims(x, axis=0)\n",
        "\n",
        "  image_tensor = np.vstack([x])\n",
        "  classes = model.predict(image_tensor)\n",
        "  print(classes)\n",
        "  print(classes[0])\n",
        "  if classes[0]>0.5:\n",
        "    print(fn + \" is a human\")\n",
        "  else:\n",
        "    print(fn + \" is a horse\")\n",
        ""
      ]
    },
    {
      "cell_type": "markdown",
      "metadata": {
        "id": "D-9BosuqR3Vk"
      },
      "source": [
        "## Finally lets visualize all of the model layers!"
      ]
    },
    {
      "cell_type": "code",
      "execution_count": null,
      "metadata": {
        "id": "h-SUwB0bzVvc"
      },
      "outputs": [],
      "source": [
        "import matplotlib.pyplot as plt\n",
        "import numpy as np\n",
        "import random\n",
        "\n",
        "%matplotlib inline\n",
        "\n",
        "import matplotlib.pyplot as plt\n",
        "import matplotlib.image as mpimg\n",
        "\n",
        "# Let's define a new Model that will take an image as input, and will output\n",
        "# intermediate representations for all layers in the previous model after the first.\n",
        "successive_outputs = [layer.output for layer in model.layers[1:]]\n",
        "visualization_model = tf.keras.models.Model(inputs = model.input, outputs = successive_outputs)\n",
        "# Let's prepare a random input image from the training set.\n",
        "horse_img_files = [os.path.join(train_horse_dir, f) for f in train_horse_names]\n",
        "human_img_files = [os.path.join(train_human_dir, f) for f in train_human_names]\n",
        "img_path = random.choice(horse_img_files + human_img_files)\n",
        "# uncomment the following line if you want to pick the Xth human file manually\n",
        "img_path = human_img_files[0]\n",
        "\n",
        "img = tf.keras.preprocessing.image.load_img(img_path, target_size=(100, 100))  # this is a PIL image\n",
        "x = tf.keras.preprocessing.image.img_to_array(img)  # Numpy array with shape (100, 100, 3)\n",
        "x = x.reshape((1,) + x.shape)  # Numpy array with shape (1, 100, 100, 3)\n",
        "\n",
        "# Rescale by 1/255\n",
        "x /= 255.0\n",
        "\n",
        "# Let's run our image through our network, thus obtaining all\n",
        "# intermediate representations for this image.\n",
        "successive_feature_maps = visualization_model.predict(x)\n",
        "\n",
        "# These are the names of the layers, so can have them as part of our plot\n",
        "layer_names = [layer.name for layer in model.layers]\n",
        "\n",
        "# Now let's display our representations\n",
        "for layer_name, feature_map in zip(layer_names, successive_feature_maps):\n",
        "  if len(feature_map.shape) == 4:\n",
        "    # Just do this for the conv / maxpool layers, not the fully-connected layers\n",
        "    n_features = feature_map.shape[-1]  # number of features in feature map\n",
        "    n_features = min(n_features,5) # limit to 5 features for easier viewing\n",
        "    # The feature map has shape (1, size, size, n_features)\n",
        "    size = feature_map.shape[1]\n",
        "    # We will tile our images in this matrix\n",
        "    display_grid = np.zeros((size, size * n_features))\n",
        "    for i in range(n_features):\n",
        "      # Postprocess the feature to make it visually palatable\n",
        "      x = feature_map[0, :, :, i]\n",
        "      x -= x.mean()\n",
        "      x /= x.std()\n",
        "      x *= 64\n",
        "      x += 128\n",
        "      x = np.clip(x, 0, 255).astype('uint8')\n",
        "      # We'll tile each filter into this big horizontal grid\n",
        "      display_grid[:, i * size : (i + 1) * size] = x\n",
        "    # Display the grid\n",
        "    scale = 20. / n_features\n",
        "    plt.figure(figsize=(scale * n_features, scale))\n",
        "    plt.title(layer_name)\n",
        "    plt.grid(False)\n",
        "    plt.imshow(display_grid, aspect='auto', cmap='viridis')"
      ]
    },
    {
      "cell_type": "markdown",
      "metadata": {
        "id": "j4IBgYCYooGD"
      },
      "source": [
        "## Clean Up\n",
        "\n",
        "Before running the next exercise, run the following cell to terminate the kernel and free memory resources:"
      ]
    },
    {
      "cell_type": "code",
      "execution_count": null,
      "metadata": {
        "id": "651IgjLyo-Jx"
      },
      "outputs": [],
      "source": [
        "import os, signal\n",
        "os.kill(os.getpid(), signal.SIGKILL)"
      ]
    }
  ],
  "metadata": {
    "accelerator": "GPU",
    "colab": {
      "name": "2-4-3-HorsesOrHumans",
      "provenance": [],
      "include_colab_link": true
    },
    "kernelspec": {
      "display_name": "Python 3",
      "language": "python",
      "name": "python3"
    },
    "language_info": {
      "codemirror_mode": {
        "name": "ipython",
        "version": 3
      },
      "file_extension": ".py",
      "mimetype": "text/x-python",
      "name": "python",
      "nbconvert_exporter": "python",
      "pygments_lexer": "ipython3",
      "version": "3.6.9"
    }
  },
  "nbformat": 4,
  "nbformat_minor": 0
}