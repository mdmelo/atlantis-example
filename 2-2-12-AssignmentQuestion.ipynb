{
  "cells": [
    {
      "cell_type": "markdown",
      "metadata": {
        "id": "8xbTVRPFuoD8"
      },
      "source": [
        "# Exploring DNN learning with TensorFlow\n",
        "\n",
        "In this assignment we'll dive a little deeper with a series of hands on exercises to better understand DNN learning with Tensorflow. Remember that if you are taking the class for a certificate we will be asking you questions about the assignment in the test!\n",
        "\n",
        "We start by setting up the problem for you."
      ]
    },
    {
      "cell_type": "code",
      "execution_count": 1,
      "metadata": {
        "id": "Tg8P1YHhuoEB"
      },
      "outputs": [],
      "source": [
        "# Load libraries\n",
        "import sys\n",
        "\n",
        "import tensorflow as tf"
      ]
    },
    {
      "cell_type": "code",
      "execution_count": 2,
      "metadata": {
        "id": "AoGqBbgtuoED"
      },
      "outputs": [],
      "source": [
        "# This script requires TensorFlow 2 and Python 3.\n",
        "if sys.version_info.major < 3:\n",
        "    raise Exception((f\"The script is developed and tested for Python 3. \"\n",
        "                     f\"Current version: {sys.version_info.major}\"))\n",
        "\n",
        "if tf.__version__.split('.')[0] != '2':\n",
        "    raise Exception((f\"The script is developed and tested for tensorflow 2. \"\n",
        "                     f\"Current version: {tf.__version__}\"))"
      ]
    },
    {
      "cell_type": "code",
      "execution_count": 3,
      "metadata": {
        "colab": {
          "base_uri": "https://localhost:8080/"
        },
        "id": "q3KzJyjv3rnA",
        "outputId": "dc3607f9-ec00-4836-b143-34579458785a"
      },
      "outputs": [
        {
          "output_type": "stream",
          "name": "stdout",
          "text": [
            "Downloading data from https://storage.googleapis.com/tensorflow/tf-keras-datasets/train-labels-idx1-ubyte.gz\n",
            "29515/29515 [==============================] - 0s 0us/step\n",
            "Downloading data from https://storage.googleapis.com/tensorflow/tf-keras-datasets/train-images-idx3-ubyte.gz\n",
            "26421880/26421880 [==============================] - 0s 0us/step\n",
            "Downloading data from https://storage.googleapis.com/tensorflow/tf-keras-datasets/t10k-labels-idx1-ubyte.gz\n",
            "5148/5148 [==============================] - 0s 0us/step\n",
            "Downloading data from https://storage.googleapis.com/tensorflow/tf-keras-datasets/t10k-images-idx3-ubyte.gz\n",
            "4422102/4422102 [==============================] - 0s 0us/step\n"
          ]
        }
      ],
      "source": [
        "# Load in fashion MNIST\n",
        "mnist = tf.keras.datasets.fashion_mnist\n",
        "(training_images, training_labels), (test_images, test_labels) = mnist.load_data()\n",
        "\n",
        "# Define the base model\n",
        "model = tf.keras.models.Sequential([tf.keras.layers.Flatten(input_shape=(28,28)),\n",
        "                                    tf.keras.layers.Dense(512, activation=tf.nn.relu),\n",
        "                                    tf.keras.layers.Dense(10, activation=tf.nn.softmax)])\n",
        "\n"
      ]
    },
    {
      "cell_type": "markdown",
      "metadata": {
        "id": "lfqmixRAuoEI"
      },
      "source": [
        "Neural Networks learn the best when the data is scaled / normalized to fall in a constant range. One practitioners often use is the range [0,1]. How might you do this to the training and test images used here?\n",
        "\n",
        "*A hint: these images are saved in the standard [RGB](https://www.rapidtables.com/web/color/RGB_Color.html) format*"
      ]
    },
    {
      "cell_type": "code",
      "execution_count": 4,
      "metadata": {
        "id": "IxvZ1uK8uoEJ"
      },
      "outputs": [],
      "source": [
        "training_images  = training_images / 255.0\n",
        "test_images = test_images / 255.0"
      ]
    },
    {
      "cell_type": "markdown",
      "metadata": {
        "id": "4UgT_xevuoEL"
      },
      "source": [
        "Using these improved images lets compile our model using an adaptive optimizer to learn faster and a categorical loss function to differentiate between the the various classes we are trying to classify. Since this is a very simple dataset we will only train for 5 epochs."
      ]
    },
    {
      "cell_type": "code",
      "execution_count": 5,
      "metadata": {
        "id": "fcDosE4juoEN",
        "outputId": "782a4ece-ebee-4814-9166-74dc1c542f4d",
        "colab": {
          "base_uri": "https://localhost:8080/"
        }
      },
      "outputs": [
        {
          "metadata": {
            "tags": null
          },
          "name": "stdout",
          "output_type": "stream",
          "text": [
            "Epoch 1/5\n",
            "1875/1875 [==============================] - 14s 7ms/step - loss: 0.4730 - accuracy: 0.8307\n",
            "Epoch 2/5\n",
            "1875/1875 [==============================] - 13s 7ms/step - loss: 0.3571 - accuracy: 0.8683\n",
            "Epoch 3/5\n",
            "1875/1875 [==============================] - 14s 7ms/step - loss: 0.3202 - accuracy: 0.8831\n",
            "Epoch 4/5\n",
            "1875/1875 [==============================] - 14s 7ms/step - loss: 0.3003 - accuracy: 0.8888\n",
            "Epoch 5/5\n",
            "1875/1875 [==============================] - 13s 7ms/step - loss: 0.2793 - accuracy: 0.8960\n",
            "313/313 [==============================] - 1s 3ms/step - loss: 0.3451 - accuracy: 0.8712\n"
          ]
        },
        {
          "data": {
            "text/plain": [
              "[0.3450649380683899, 0.8712000250816345]"
            ]
          },
          "execution_count": 5,
          "metadata": {},
          "output_type": "execute_result"
        }
      ],
      "source": [
        "# compile the model\n",
        "model.compile(optimizer = tf.keras.optimizers.Adam(),\n",
        "              loss = 'sparse_categorical_crossentropy',\n",
        "              metrics=['accuracy'])\n",
        "\n",
        "# fit the model to the training data\n",
        "model.fit(training_images, training_labels, epochs=5)\n",
        "\n",
        "# test the model on the test data\n",
        "model.evaluate(test_images, test_labels)"
      ]
    },
    {
      "cell_type": "markdown",
      "metadata": {
        "id": "-JJMsvSB-1UY"
      },
      "source": [
        "Once it's done training -- you should see an accuracy value at the end of the final epoch. It might look something like 0.8648. This tells you that your neural network is about 86% accurate in classifying the training data. I.E., it figured out a pattern match between the image and the labels that worked 86% of the time. But how would it work with unseen data? That's why we have the test images. We can call ```model.evaluate```, and pass in the two sets, and it will report back the loss for each. This should reach about .8747 or thereabouts, showing about 87% accuracy. Not Bad!"
      ]
    },
    {
      "cell_type": "markdown",
      "metadata": {
        "id": "rquQqIx4AaGR"
      },
      "source": [
        "But what did it actually learn? If we inference on the model using ```model.predict``` we get out the following list of values. **What does it represent?**\n",
        "\n",
        "*A hint: trying running ```print(test_labels[0])```*"
      ]
    },
    {
      "cell_type": "code",
      "execution_count": 6,
      "metadata": {
        "colab": {
          "base_uri": "https://localhost:8080/"
        },
        "id": "RyEIki0z_hAD",
        "outputId": "b6948c40-39ed-4d86-eebc-e0c76b868599"
      },
      "outputs": [
        {
          "output_type": "stream",
          "name": "stdout",
          "text": [
            "313/313 [==============================] - 1s 3ms/step\n",
            "[7.0831781e-08 1.2644796e-07 1.1300027e-08 4.4524753e-09 1.3436479e-08\n",
            " 3.1033022e-02 7.4201623e-08 4.8365325e-02 1.9272619e-08 9.2060137e-01]\n"
          ]
        }
      ],
      "source": [
        "classifications = model.predict(test_images)\n",
        "print(classifications[0])"
      ]
    },
    {
      "cell_type": "markdown",
      "metadata": {
        "id": "OgQSIfDSOWv6"
      },
      "source": [
        "Let's now look at the layers in your model. What happens if you double the number of neurons in the dense layer. What different results do you get for loss, training time etc? Why do you think that's the case?"
      ]
    },
    {
      "cell_type": "code",
      "execution_count": 8,
      "metadata": {
        "colab": {
          "base_uri": "https://localhost:8080/"
        },
        "id": "GSZSwV5UObQP",
        "outputId": "edf232fa-bcad-41bb-8283-65a744ef26dd"
      },
      "outputs": [
        {
          "output_type": "stream",
          "name": "stdout",
          "text": [
            "Epoch 1/5\n",
            "1875/1875 [==============================] - 24s 12ms/step - loss: 0.4704 - accuracy: 0.8301\n",
            "Epoch 2/5\n",
            "1875/1875 [==============================] - 26s 14ms/step - loss: 0.3573 - accuracy: 0.8682\n",
            "Epoch 3/5\n",
            "1875/1875 [==============================] - 23s 12ms/step - loss: 0.3201 - accuracy: 0.8822\n",
            "Epoch 4/5\n",
            "1875/1875 [==============================] - 23s 12ms/step - loss: 0.2984 - accuracy: 0.8888\n",
            "Epoch 5/5\n",
            "1875/1875 [==============================] - 23s 12ms/step - loss: 0.2786 - accuracy: 0.8967\n",
            "313/313 [==============================] - 1s 4ms/step - loss: 0.3518 - accuracy: 0.8737\n"
          ]
        },
        {
          "output_type": "execute_result",
          "data": {
            "text/plain": [
              "[0.3517594635486603, 0.8737000226974487]"
            ]
          },
          "metadata": {},
          "execution_count": 8
        }
      ],
      "source": [
        "NUMBER_OF_NEURONS = 512 * 2\n",
        "\n",
        "# define the new model\n",
        "model = tf.keras.models.Sequential([tf.keras.layers.Flatten(input_shape=(28,28)),\n",
        "                                    tf.keras.layers.Dense(NUMBER_OF_NEURONS, activation=tf.nn.relu),\n",
        "                                    tf.keras.layers.Dense(10, activation=tf.nn.softmax)])\n",
        "\n",
        "# compile fit and evaluate the model again\n",
        "model.compile(optimizer = tf.keras.optimizers.Adam(),\n",
        "              loss = 'sparse_categorical_crossentropy',\n",
        "              metrics=['accuracy'])\n",
        "model.fit(training_images, training_labels, epochs=5)\n",
        "model.evaluate(test_images, test_labels)"
      ]
    },
    {
      "cell_type": "markdown",
      "metadata": {
        "id": "-0lF5MuvSuZF"
      },
      "source": [
        "Consider the effects of additional layers in the network instead of simply more neurons to the same layer. First update the model to add an additional dense layer into the model between the two existing Dense layers."
      ]
    },
    {
      "cell_type": "code",
      "execution_count": 9,
      "metadata": {
        "id": "13yoS68suoEb"
      },
      "outputs": [],
      "source": [
        "YOUR_NEW_LAYER = tf.keras.layers.Dense(512, activation=tf.nn.relu)\n",
        "\n",
        "model = tf.keras.models.Sequential([tf.keras.layers.Flatten(input_shape=(28,28)),\n",
        "                                    tf.keras.layers.Dense(512, activation=tf.nn.relu),\n",
        "                                    YOUR_NEW_LAYER,\n",
        "                                    tf.keras.layers.Dense(10, activation=tf.nn.softmax)])"
      ]
    },
    {
      "cell_type": "markdown",
      "metadata": {
        "id": "1K4XEV88uoEc"
      },
      "source": [
        "Lets then compile, fit, and evaluate our model. What happens to the error? How does this compare to the original model and the model with double the number of neurons?"
      ]
    },
    {
      "cell_type": "code",
      "execution_count": 10,
      "metadata": {
        "id": "b1YPa6UhS8Es",
        "outputId": "9acfeb50-79b4-4777-90d5-03508aca2c97",
        "colab": {
          "base_uri": "https://localhost:8080/"
        }
      },
      "outputs": [
        {
          "output_type": "stream",
          "name": "stdout",
          "text": [
            "Epoch 1/5\n",
            "1875/1875 [==============================] - 23s 12ms/step - loss: 0.4680 - accuracy: 0.8281\n",
            "Epoch 2/5\n",
            "1875/1875 [==============================] - 22s 12ms/step - loss: 0.3561 - accuracy: 0.8686\n",
            "Epoch 3/5\n",
            "1875/1875 [==============================] - 20s 11ms/step - loss: 0.3211 - accuracy: 0.8804\n",
            "Epoch 4/5\n",
            "1875/1875 [==============================] - 24s 13ms/step - loss: 0.2966 - accuracy: 0.8897\n",
            "Epoch 5/5\n",
            "1875/1875 [==============================] - 20s 11ms/step - loss: 0.2779 - accuracy: 0.8962\n",
            "313/313 [==============================] - 2s 5ms/step - loss: 0.3481 - accuracy: 0.8713\n"
          ]
        },
        {
          "output_type": "execute_result",
          "data": {
            "text/plain": [
              "[0.34814804792404175, 0.8712999820709229]"
            ]
          },
          "metadata": {},
          "execution_count": 10
        }
      ],
      "source": [
        "# compile fit and evaluate the model again\n",
        "model.compile(optimizer = tf.keras.optimizers.Adam(),\n",
        "              loss = 'sparse_categorical_crossentropy',\n",
        "              metrics=['accuracy'])\n",
        "model.fit(training_images, training_labels, epochs=5)\n",
        "model.evaluate(test_images, test_labels)"
      ]
    },
    {
      "cell_type": "markdown",
      "metadata": {
        "id": "HS3vVkOgCDGZ"
      },
      "source": [
        "Before you trained, you normalized the data. What would be the impact of removing that? To see it for yourself fill in the following lines of code to get a non-normalized set of data and then re-fit and evaluate the model using this data."
      ]
    },
    {
      "cell_type": "code",
      "execution_count": 11,
      "metadata": {
        "id": "JDqNAqrpCNg0",
        "outputId": "35ecef64-424f-4a9e-c7ee-adffa8e8f1b6",
        "colab": {
          "base_uri": "https://localhost:8080/"
        }
      },
      "outputs": [
        {
          "output_type": "stream",
          "name": "stdout",
          "text": [
            "Epoch 1/5\n",
            "1875/1875 [==============================] - 22s 11ms/step - loss: 1.3816 - accuracy: 0.6627\n",
            "Epoch 2/5\n",
            "1875/1875 [==============================] - 19s 10ms/step - loss: 0.6749 - accuracy: 0.7290\n",
            "Epoch 3/5\n",
            "1875/1875 [==============================] - 21s 11ms/step - loss: 0.5637 - accuracy: 0.7913\n",
            "Epoch 4/5\n",
            "1875/1875 [==============================] - 20s 11ms/step - loss: 0.5004 - accuracy: 0.8290\n",
            "Epoch 5/5\n",
            "1875/1875 [==============================] - 20s 11ms/step - loss: 0.4572 - accuracy: 0.8424\n",
            "313/313 [==============================] - 1s 3ms/step - loss: 0.4623 - accuracy: 0.8490\n",
            "313/313 [==============================] - 1s 3ms/step\n"
          ]
        }
      ],
      "source": [
        "# get new non-normalized mnist data\n",
        "training_images_non = training_images * 255\n",
        "test_images_non = test_images * 255\n",
        "\n",
        "# re-compile, re-fit and re-evaluate\n",
        "model = tf.keras.models.Sequential([tf.keras.layers.Flatten(input_shape=(28,28)),\n",
        "                                    tf.keras.layers.Dense(512, activation=tf.nn.relu),\n",
        "                                    YOUR_NEW_LAYER,\n",
        "                                    tf.keras.layers.Dense(10, activation=tf.nn.softmax)])\n",
        "model.compile(optimizer = tf.keras.optimizers.Adam(),\n",
        "              loss = 'sparse_categorical_crossentropy',\n",
        "              metrics=['accuracy'])\n",
        "model.fit(training_images_non, training_labels, epochs=5)\n",
        "model.evaluate(test_images_non, test_labels)\n",
        "classifications = model.predict(test_images_non)"
      ]
    },
    {
      "cell_type": "markdown",
      "metadata": {
        "id": "E7W2PT66ZBHQ"
      },
      "source": [
        "Sometimes if you set the training for too many epochs you may find that training stops improving and you wish you could quit early. Good news, you can! TensorFlow has a function called ```Callbacks``` which can check the results from each epoch. Modify this callback function to make sure it exits training early but not before reaching at least the second epoch!\n",
        "\n",
        "*A hint: logs.get(METRIC_NAME) will return the value of METRIC_NAME at the current step*"
      ]
    },
    {
      "cell_type": "code",
      "execution_count": 12,
      "metadata": {
        "id": "pkaEHHgqZbYv",
        "outputId": "645e0582-ee24-4476-caf7-6f7045f78a8c",
        "colab": {
          "base_uri": "https://localhost:8080/"
        }
      },
      "outputs": [
        {
          "output_type": "stream",
          "name": "stdout",
          "text": [
            "Epoch 1/5\n",
            "1875/1875 [==============================] - 21s 11ms/step - loss: 0.4780 - accuracy: 0.8265\n",
            "Epoch 2/5\n",
            "1875/1875 [==============================] - 20s 10ms/step - loss: 0.3602 - accuracy: 0.8670\n"
          ]
        },
        {
          "output_type": "execute_result",
          "data": {
            "text/plain": [
              "<keras.src.callbacks.History at 0x7f3aa49b1060>"
            ]
          },
          "metadata": {},
          "execution_count": 12
        }
      ],
      "source": [
        "# define and instantiate your custom Callback\n",
        "class myCallback(tf.keras.callbacks.Callback):\n",
        "  def on_epoch_end(self, epoch, logs={}):\n",
        "    if (logs.get('accuracy') > 0.86):\n",
        "      self.model.stop_training = True\n",
        "callbacks = myCallback()\n",
        "\n",
        "# re-compile, re-fit and re-evaluate\n",
        "model = tf.keras.models.Sequential([tf.keras.layers.Flatten(input_shape=(28,28)),\n",
        "                            tf.keras.layers.Dense(512, activation=tf.nn.relu),\n",
        "                            YOUR_NEW_LAYER,\n",
        "                            tf.keras.layers.Dense(10, activation=tf.nn.softmax)])\n",
        "model.compile(optimizer = tf.keras.optimizers.Adam(),\n",
        "      loss = 'sparse_categorical_crossentropy',\n",
        "      metrics=['accuracy'])\n",
        "model.fit(training_images, training_labels, epochs=5, callbacks=[callbacks])"
      ]
    }
  ],
  "metadata": {
    "colab": {
      "name": "2-2-12-Exercise.ipynb",
      "provenance": []
    },
    "kernelspec": {
      "display_name": "Python 3",
      "language": "python",
      "name": "python3"
    },
    "language_info": {
      "codemirror_mode": {
        "name": "ipython",
        "version": 3
      },
      "file_extension": ".py",
      "mimetype": "text/x-python",
      "name": "python",
      "nbconvert_exporter": "python",
      "pygments_lexer": "ipython3",
      "version": "3.6.9"
    }
  },
  "nbformat": 4,
  "nbformat_minor": 0
}